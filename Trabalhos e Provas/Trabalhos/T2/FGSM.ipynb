{
 "cells": [
  {
   "cell_type": "code",
   "execution_count": null,
   "id": "39b98e69",
   "metadata": {},
   "outputs": [],
   "source": [
    "import torch\n",
    "import torch.nn as nn\n",
    "import torch.nn.functional as F\n",
    "import torchvision\n",
    "import torchvision.transforms as transforms\n",
    "import matplotlib.pyplot as plt\n",
    "\n",
    "device = torch.device(\"cuda\" if torch.cuda.is_available() else \"cpu\")\n"
   ]
  },
  {
   "cell_type": "markdown",
   "id": "12fb491b",
   "metadata": {},
   "source": [
    "Dataset Mnist"
   ]
  },
  {
   "cell_type": "code",
   "execution_count": null,
   "id": "dc10fd18",
   "metadata": {},
   "outputs": [],
   "source": [
    "# Transformação: converte imagens para tensor,convertendo a imagem visual em uma matriz de números de forma que a rede neural possa usar como entrada no treinamento\n",
    "transform = transforms.ToTensor()\n",
    "\n",
    "# Carregar os dados de treino e teste\n",
    "train_set = torchvision.datasets.MNIST(root='./data', train=True, download=True, transform=transform)\n",
    "test_set = torchvision.datasets.MNIST(root='./data', train=False, download=True, transform=transform)\n",
    "\n",
    "# Criar data loaders dividindo em batches de 64 fotos embaralhados\n",
    "train_loader = torch.utils.data.DataLoader(train_set, batch_size=64, shuffle=True)\n",
    "test_loader = torch.utils.data.DataLoader(test_set, batch_size=1, shuffle=True)"
   ]
  },
  {
   "cell_type": "markdown",
   "id": "5b0849ee",
   "metadata": {},
   "source": [
    "3. Definição da CNN"
   ]
  },
  {
   "cell_type": "code",
   "execution_count": null,
   "id": "b5783e59",
   "metadata": {},
   "outputs": [],
   "source": [
    "class SimpleCNN(nn.Module):\n",
    "    def __init__(self):\n",
    "        super(SimpleCNN, self).__init__()\n",
    "        self.conv1 = nn.Conv2d(1,10, kernel_size=5) # Primeira Camada Convulacional\n",
    "        self.conv2 = nn.Conv2d(10,20, kernel_size=5) # Segunda camada Convulacional\n",
    "        self.fc1 = nn.Linear(320,50) # Entrada: 320 unidades (equivalente a 20 canais × 4 × 4 após convoluções + pooling)\n",
    "        self.fc2 = nn.Linear(50,10)  #última camada (sem ativação, pois usamos CrossEntropyLoss, que já aplica softmax internamente).\n",
    "    \n",
    "    def forward(self,x):\n",
    "        x = F.relu(F.max_pool2d(self.conv1(x),2)) # Aplica a primeira convolução → ReLU → MaxPooling (2x2), reduzindo a dimensão espacial da imagem\n",
    "        x = F.relu(F.max_pool2d(self.conv2(x),2))\n",
    "        x = x.view(-1,320) # Achata (flatten) o tensor para transformar em vetor 1D antes de passar pelas camadas densas.\n",
    "\n",
    "        x = F.relu(self.fc1(x)) \n",
    "        return self.fc2(x)\n",
    "    \n",
    "model = SimpleCNN().to(device)"
   ]
  },
  {
   "cell_type": "markdown",
   "id": "f67801a1",
   "metadata": {},
   "source": [
    "4. Treinamento do Modelo"
   ]
  },
  {
   "cell_type": "code",
   "execution_count": null,
   "id": "ed81e3c6",
   "metadata": {},
   "outputs": [],
   "source": [
    "optimizer = torch.optim.Adam(model.parameters(), lr=0.001) #Otimizador Adam com uma learning rate de 0.001\n",
    "loss_fn = nn.CrossEntropyLoss() #Função de custo com softMax interna\n",
    "\n",
    "def train_model(model, epochs=3): # Treinamendo da rede convulacional com 3 epochs\n",
    "    model.train()\n",
    "    for epoch in range(epochs):\n",
    "        for images, labels in train_loader:\n",
    "            images, labels = images.to(device), labels.to(device)\n",
    "            optimizer.zero_grad() #Reinicializaos gradientes acumulados nos parâmetros do modelo antes de calcular novos gradientes na próxima época.\n",
    "            outputs = model(images) # O modelo pega as imagens de entrada, passa por todas as camadas (conv, pooling, fully connected) e devolve os valores brutos das predições para cada classe (0 a 9 no caso do MNIST).\n",
    "            loss = loss_fn(outputs, labels)\n",
    "            loss.backward()\n",
    "            optimizer.step()\n",
    "        print(f\"Epoch {epoch+1} finalizada.\")\n",
    "\n",
    "train_model(model)\n"
   ]
  },
  {
   "cell_type": "markdown",
   "id": "79072546",
   "metadata": {},
   "source": [
    "5. Avaliação no Conjunto de teste"
   ]
  },
  {
   "cell_type": "code",
   "execution_count": null,
   "id": "8054a601",
   "metadata": {},
   "outputs": [],
   "source": [
    "def test_accuracy(model, loader):\n",
    "    model.eval()\n",
    "    correct = 0\n",
    "    total = 0\n",
    "    with torch.no_grad():\n",
    "        for images, labels in loader:\n",
    "            images, labels = images.to(device), labels.to(device)\n",
    "            outputs = model(images)\n",
    "            _, predicted = outputs.max(1)\n",
    "            correct += (predicted == labels).sum().item()\n",
    "            total += labels.size(0)\n",
    "    return correct / total\n",
    "\n",
    "\n",
    "acc_original = test_accuracy(model, test_loader)\n",
    "print(f\"Acurácia original: {acc_original * 100:.2f}%\")"
   ]
  },
  {
   "cell_type": "markdown",
   "id": "3f6301bd",
   "metadata": {},
   "source": [
    "6. Função de ataque FGSM"
   ]
  },
  {
   "cell_type": "code",
   "execution_count": null,
   "id": "cbbac8c2",
   "metadata": {},
   "outputs": [],
   "source": [
    "def fgsm_attack(image,label,epsilon):\n",
    "    image.requires_grad = True\n",
    "    output = model(image)\n",
    "    loss = loss_fn(output,label)\n",
    "    model.zero_grad()\n",
    "    loss.backward()\n",
    "    data_grad = image.grad.data\n",
    "    perturbed_image = image + epsilon * data_grad.sign()\n",
    "    return torch.clamp(perturbed_image,0,1) #Ela limita (clampa) os valores do tensor entre 0 e 1.\n",
    "\n"
   ]
  },
  {
   "cell_type": "markdown",
   "id": "84191848",
   "metadata": {},
   "source": [
    "7. Visualizar Ataque em uma imagem"
   ]
  },
  {
   "cell_type": "code",
   "execution_count": null,
   "id": "e2bcd2a9",
   "metadata": {},
   "outputs": [],
   "source": [
    "dataiter = iter(test_loader)\n",
    "image, label = next(dataiter)\n",
    "image, label = image.to(device), label.to(device)\n",
    "\n",
    "# Previsão original\n",
    "output = model(image)\n",
    "_, pred_orig = output.max(1)\n",
    "\n",
    "# Aplicar ataque FGSM\n",
    "epsilon = 0.25 #Aplicação da distorção\n",
    "image_adv = fgsm_attack(image, label, epsilon)\n",
    "\n",
    "# Previsão após o ataque\n",
    "output_adv = model(image_adv)\n",
    "_, pred_adv = output_adv.max(1)\n",
    "\n",
    "# Mostrar imagens lado a lado\n",
    "plt.figure(figsize=(8,4))\n",
    "plt.subplot(1,2,1)\n",
    "plt.title(f\"Original: {pred_orig.item()}\")\n",
    "plt.imshow(image.squeeze().detach().cpu().numpy(), cmap=\"gray\")\n",
    "\n",
    "plt.subplot(1,2,2)\n",
    "plt.title(f\"Adversarial: {pred_adv.item()}\")\n",
    "plt.imshow(image_adv.squeeze().detach().cpu().numpy(), cmap=\"gray\")\n",
    "\n",
    "plt.suptitle(\"Exemplo de Ataque FGSM\")\n",
    "plt.show()\n"
   ]
  },
  {
   "cell_type": "markdown",
   "id": "d4145edb",
   "metadata": {},
   "source": [
    "Avaliar Modelo com dados Adversariais"
   ]
  },
  {
   "cell_type": "code",
   "execution_count": null,
   "id": "05ce25d2",
   "metadata": {},
   "outputs": [],
   "source": [
    "def test_adversarial(model, loader, epsilon):\n",
    "    correct = 0\n",
    "    total = 0\n",
    "    for images, labels in loader:\n",
    "        images, labels = images.to(device), labels.to(device)\n",
    "        adv_images = fgsm_attack(images, labels, epsilon)\n",
    "        outputs = model(adv_images)\n",
    "        _, predicted = outputs.max(1)\n",
    "        correct += (predicted == labels).sum().item()\n",
    "        total += labels.size(0)\n",
    "    return correct / total\n",
    "\n",
    "acc_adv = test_adversarial(model, test_loader, epsilon)\n",
    "print(f\"Acurácia após ataque adversarial (ε={epsilon}): {acc_adv * 100:.2f}%\")\n"
   ]
  }
 ],
 "metadata": {
  "kernelspec": {
   "display_name": "Python 3",
   "language": "python",
   "name": "python3"
  },
  "language_info": {
   "codemirror_mode": {
    "name": "ipython",
    "version": 3
   },
   "file_extension": ".py",
   "mimetype": "text/x-python",
   "name": "python",
   "nbconvert_exporter": "python",
   "pygments_lexer": "ipython3",
   "version": "3.8.10"
  }
 },
 "nbformat": 4,
 "nbformat_minor": 5
}
