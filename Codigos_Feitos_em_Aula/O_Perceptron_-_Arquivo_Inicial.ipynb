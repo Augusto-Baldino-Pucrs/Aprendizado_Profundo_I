{
 "cells": [
  {
   "cell_type": "markdown",
   "id": "fa129f0f",
   "metadata": {},
   "source": [
    "# O Perceptron\n",
    "- https://scikit-learn.org/stable/modules/generated/sklearn.linear_model.Perceptron.html\n",
    "- É um modelo **linear** para **classificação binária**\n",
    "    - Só é possível fazer a separação se os dados forem **linearmente separáveis**\n",
    "- O seu **aprendizado** é feito através do cálculo dos **pesos** e **vieses**\n",
    "\n",
    "\n",
    "- Seu funcionamento é baseado no funcionamento do neurônio humano:\n",
    "<img src=\"https://drive.google.com/uc?id=1CM4TqqEYyl81gVYYeIaSgA9Fb6lkd0vE\" style='width: 1000px;' />\n",
    "\n",
    "\n",
    "\n",
    "- Foi proposto em 1943 por McCulloch e Pitts e implementado pela primeira vez em 1958 por Frank Rosenblatt e segundo o The New York Times:\n",
    "    -  **o perceptron é \"o embrião de um computador eletrônico que [a Marinha] espera que seja capaz de andar, falar, ver, escrever, reproduzir-se e ter consciência de sua existência\"**\n",
    "- Devido a sua limitação de prever padrões simples como o OU exclusivo (XOR), ficou um tempo \"congelado\" mas foi retomado fortemente com o avanço do **Deep Learning**"
   ]
  },
  {
   "cell_type": "code",
   "execution_count": 8,
   "id": "11bf6e9e",
   "metadata": {},
   "outputs": [],
   "source": [
    "# Importando as bibliotecas\n",
    "import pandas as pd\n",
    "import matplotlib.pyplot as plt\n"
   ]
  },
  {
   "cell_type": "markdown",
   "id": "54dab0f9",
   "metadata": {},
   "source": [
    "- Podemos considerar o dataset iris\n",
    "    - https://scikit-learn.org/stable/modules/generated/sklearn.datasets.load_iris.html#sklearn.datasets.load_iris"
   ]
  },
  {
   "cell_type": "code",
   "execution_count": 9,
   "id": "ea293f3f",
   "metadata": {},
   "outputs": [],
   "source": [
    "# Importando o dataset iris\n",
    "from sklearn.datasets import load_iris"
   ]
  },
  {
   "cell_type": "code",
   "execution_count": 10,
   "id": "49c0b5dc",
   "metadata": {},
   "outputs": [],
   "source": [
    "# Determinando o X e y\n",
    "X_iris,y_iris = load_iris(return_X_y=True, as_frame=True)"
   ]
  },
  {
   "cell_type": "code",
   "execution_count": 11,
   "id": "a38551e9",
   "metadata": {},
   "outputs": [
    {
     "data": {
      "text/html": [
       "<div>\n",
       "<style scoped>\n",
       "    .dataframe tbody tr th:only-of-type {\n",
       "        vertical-align: middle;\n",
       "    }\n",
       "\n",
       "    .dataframe tbody tr th {\n",
       "        vertical-align: top;\n",
       "    }\n",
       "\n",
       "    .dataframe thead th {\n",
       "        text-align: right;\n",
       "    }\n",
       "</style>\n",
       "<table border=\"1\" class=\"dataframe\">\n",
       "  <thead>\n",
       "    <tr style=\"text-align: right;\">\n",
       "      <th></th>\n",
       "      <th>sepal length (cm)</th>\n",
       "      <th>sepal width (cm)</th>\n",
       "      <th>petal length (cm)</th>\n",
       "      <th>petal width (cm)</th>\n",
       "    </tr>\n",
       "  </thead>\n",
       "  <tbody>\n",
       "    <tr>\n",
       "      <th>0</th>\n",
       "      <td>5.1</td>\n",
       "      <td>3.5</td>\n",
       "      <td>1.4</td>\n",
       "      <td>0.2</td>\n",
       "    </tr>\n",
       "    <tr>\n",
       "      <th>1</th>\n",
       "      <td>4.9</td>\n",
       "      <td>3.0</td>\n",
       "      <td>1.4</td>\n",
       "      <td>0.2</td>\n",
       "    </tr>\n",
       "    <tr>\n",
       "      <th>2</th>\n",
       "      <td>4.7</td>\n",
       "      <td>3.2</td>\n",
       "      <td>1.3</td>\n",
       "      <td>0.2</td>\n",
       "    </tr>\n",
       "  </tbody>\n",
       "</table>\n",
       "</div>"
      ],
      "text/plain": [
       "   sepal length (cm)  sepal width (cm)  petal length (cm)  petal width (cm)\n",
       "0                5.1               3.5                1.4               0.2\n",
       "1                4.9               3.0                1.4               0.2\n",
       "2                4.7               3.2                1.3               0.2"
      ]
     },
     "execution_count": 11,
     "metadata": {},
     "output_type": "execute_result"
    }
   ],
   "source": [
    "# Visualizando\n",
    "X_iris.head(3)"
   ]
  },
  {
   "cell_type": "code",
   "execution_count": 12,
   "id": "70e6a8e6",
   "metadata": {},
   "outputs": [],
   "source": [
    "# Selecionando apenas as colunas de pétala e o target 0 e 1\n",
    "X = X_iris.loc[y_iris.isin([0,1]),['petal length (cm)','petal width (cm)']]\n",
    "y = y_iris.loc[y_iris.isin([0,1])]"
   ]
  },
  {
   "cell_type": "code",
   "execution_count": 13,
   "id": "fa8d4871",
   "metadata": {},
   "outputs": [
    {
     "data": {
      "text/plain": [
       "target\n",
       "0    50\n",
       "1    50\n",
       "Name: count, dtype: int64"
      ]
     },
     "execution_count": 13,
     "metadata": {},
     "output_type": "execute_result"
    }
   ],
   "source": [
    "# Verificando o valor de y\n",
    "y.value_counts()"
   ]
  },
  {
   "cell_type": "code",
   "execution_count": 14,
   "id": "827975d0",
   "metadata": {},
   "outputs": [
    {
     "data": {
      "image/png": "[encoded data removed]",
      "text/plain": [
       "<Figure size 640x480 with 1 Axes>"
      ]
     },
     "metadata": {},
     "output_type": "display_data"
    }
   ],
   "source": [
    "# Observando graficamente os dados\n",
    "fig, ax = plt.subplots()\n",
    "\n",
    "ax.scatter(X.iloc[:,0],X.iloc[:,1],c=y)\n",
    "\n",
    "ax.set(xlim=(0.9,5.2),xticks=[1,2,3,4,5],\n",
    "   ylim=(0,2),yticks=[0,1,2])\n",
    "\n",
    "plt.show()"
   ]
  },
  {
   "cell_type": "markdown",
   "id": "2f561401",
   "metadata": {},
   "source": [
    "- Para esse caso, teremos como mostrado na figura abaixo:\n",
    "<img src=\"https://drive.google.com/uc?id=1HRJtv_viNN_jePnVIWhhjNJWiO8b_3G8\" style='width: 500px;' />"
   ]
  },
  {
   "cell_type": "markdown",
   "id": "6ccd3dd0",
   "metadata": {},
   "source": [
    "- **Podemos utilizar o perceptron para separar esses dados**"
   ]
  },
  {
   "cell_type": "code",
   "execution_count": 15,
   "id": "382cf619",
   "metadata": {},
   "outputs": [],
   "source": [
    "# Separando em treino e teste\n",
    "from sklearn.model_selection import train_test_split\n",
    "X_train, X_test, y_train, y_test = train_test_split(X, y, test_size=0.33, random_state=42)"
   ]
  },
  {
   "cell_type": "code",
   "execution_count": 22,
   "id": "45d25314",
   "metadata": {},
   "outputs": [],
   "source": [
    "# Importando o perceptron\n",
    "from sklearn.linear_model import Perceptron"
   ]
  },
  {
   "cell_type": "code",
   "execution_count": null,
   "id": "99949cfa",
   "metadata": {},
   "outputs": [],
   "source": [
    "# Criando o classificador\n",
    "clf = Perceptron(tol=1e-3, random_state=0,eta0=0.1)"
   ]
  },
  {
   "cell_type": "code",
   "execution_count": 24,
   "id": "45a6ab85",
   "metadata": {},
   "outputs": [],
   "source": [
    "# Fazendo o fit com os dados\n",
    "clf = clf.fit(X_train,y_train)"
   ]
  },
  {
   "cell_type": "code",
   "execution_count": 25,
   "id": "9eded11b",
   "metadata": {},
   "outputs": [],
   "source": [
    "# Fazendo a previsão\n",
    "y_pred = clf.predict(X_test)"
   ]
  },
  {
   "cell_type": "markdown",
   "id": "d8a6ed3f",
   "metadata": {},
   "source": [
    "- Podemos utilizar a matriz de confusão para avaliar esse modelo\n",
    "    - https://scikit-learn.org/stable/modules/generated/sklearn.metrics.confusion_matrix.html"
   ]
  },
  {
   "cell_type": "code",
   "execution_count": 20,
   "id": "df7ea63f",
   "metadata": {},
   "outputs": [],
   "source": [
    "# Importando a matriz de confusão\n",
    "from sklearn.metrics import confusion_matrix"
   ]
  },
  {
   "cell_type": "code",
   "execution_count": 26,
   "id": "98df027b",
   "metadata": {},
   "outputs": [
    {
     "data": {
      "text/plain": [
       "array([[19,  0],\n",
       "       [ 0, 14]])"
      ]
     },
     "execution_count": 26,
     "metadata": {},
     "output_type": "execute_result"
    }
   ],
   "source": [
    "# Avaliando o modelo\n",
    "confusion_matrix(y_test,y_pred)"
   ]
  },
  {
   "cell_type": "markdown",
   "id": "0680eaa8",
   "metadata": {},
   "source": [
    "- **Entendendo o que o perceptron fez**\n",
    "<img src=\"https://drive.google.com/uc?id=1mhJWu-2Kedtvq_k8iXqlpQp4bfOhAcCP\" style='width: 500px;' />"
   ]
  },
  {
   "cell_type": "code",
   "execution_count": 29,
   "id": "d257baef",
   "metadata": {},
   "outputs": [
    {
     "data": {
      "text/plain": [
       "array([[0.8, 0.8]])"
      ]
     },
     "execution_count": 29,
     "metadata": {},
     "output_type": "execute_result"
    }
   ],
   "source": [
    "# Verificando o coef_\n",
    "X_train.head(3)\n",
    "\n",
    "y_train[:3]\n",
    "\n",
    "clf.coef_"
   ]
  },
  {
   "cell_type": "code",
   "execution_count": 30,
   "id": "8dd6afe4",
   "metadata": {},
   "outputs": [
    {
     "data": {
      "text/plain": [
       "array([-2.])"
      ]
     },
     "execution_count": 30,
     "metadata": {},
     "output_type": "execute_result"
    }
   ],
   "source": [
    "# E o intercept \n",
    "clf.intercept_"
   ]
  },
  {
   "cell_type": "code",
   "execution_count": 35,
   "id": "5b53693a",
   "metadata": {},
   "outputs": [
    {
     "name": "stdout",
     "output_type": "stream",
     "text": [
      "0.8 0.8 -2.0\n"
     ]
    }
   ],
   "source": [
    "# Podemos escrever w1, w2 e w0 como\n",
    "w1 = round(clf.coef_[0][0],2)\n",
    "w2 = round(clf.coef_[0][0],2)\n",
    "w0 = clf.intercept_[0]\n",
    "print(w1,w2,w0)"
   ]
  },
  {
   "cell_type": "markdown",
   "id": "a434dac3",
   "metadata": {},
   "source": [
    "- O resultado será como mostrado na figura:\n",
    "<img src=\"https://drive.google.com/uc?id=1RLBa9NVEYVsnV6naed6CrznIrc1JfmoT\" style='width: 700px;' />"
   ]
  },
  {
   "cell_type": "code",
   "execution_count": null,
   "id": "dd190c9a",
   "metadata": {},
   "outputs": [
    {
     "data": {
      "image/png": "[encoded data removed]",
      "text/plain": [
       "<Figure size 432x288 with 1 Axes>"
      ]
     },
     "metadata": {
      "needs_background": "light"
     },
     "output_type": "display_data"
    }
   ],
   "source": [
    "# Adicionando essa reta no gráfico\n",
    "fig, ax = plt.subplots()\n",
    "\n",
    "ax.scatter(X_train.iloc[:,0],X_train.iloc[:,1],c=y_train)\n",
    "ax.plot(X_train.iloc[:,0],(-w1*X_train.iloc[:,0]-w0)/w2)\n",
    "ax.scatter(X_test.iloc[:,0],X_test.iloc[:,1],c=y_test)\n",
    "\n",
    "ax.set(xlim=(0.9,5.2),xticks=[1,2,3,4,5],\n",
    "   ylim=(0,2),yticks=[0,1,2])\n",
    "\n",
    "plt.show()"
   ]
  },
  {
   "cell_type": "markdown",
   "id": "885ec4f4",
   "metadata": {},
   "source": [
    "- **O que acontece se tentarmos separar as classes 1 e 2?**"
   ]
  },
  {
   "cell_type": "code",
   "execution_count": null,
   "id": "eb01dee8",
   "metadata": {},
   "outputs": [],
   "source": [
    "# Agora considerando as classes 1 e 2\n",
    "X = X_iris.loc[y_iris.isin([1,2]),['petal length (cm)','petal width (cm)']]\n",
    "y = y_iris.loc[y_iris.isin([1,2])]"
   ]
  },
  {
   "cell_type": "code",
   "execution_count": null,
   "id": "ff2d605a",
   "metadata": {},
   "outputs": [
    {
     "data": {
      "image/png": "[encoded data removed]",
      "text/plain": [
       "<Figure size 432x288 with 1 Axes>"
      ]
     },
     "metadata": {
      "needs_background": "light"
     },
     "output_type": "display_data"
    }
   ],
   "source": [
    "# Observando graficamente os dados\n",
    "fig, ax = plt.subplots()\n",
    "\n",
    "ax.scatter(X.iloc[:,0],X.iloc[:,1],c=y)\n",
    "\n",
    "ax.set(xlim=(2.9,7),xticks=[3,4,5,6,7],\n",
    "    ylim=(0.9,3),yticks=[1,2,3])\n",
    "\n",
    "plt.show()"
   ]
  },
  {
   "cell_type": "code",
   "execution_count": null,
   "id": "92f72525",
   "metadata": {},
   "outputs": [],
   "source": [
    "# Separando em treino e teste\n",
    "from sklearn.model_selection import train_test_split\n",
    "X_train, X_test, y_train, y_test = train_test_split(X, y, test_size=0.33, random_state=42)"
   ]
  },
  {
   "cell_type": "code",
   "execution_count": null,
   "id": "5bf9eff0",
   "metadata": {},
   "outputs": [],
   "source": [
    "# Criando um novo classificador"
   ]
  },
  {
   "cell_type": "code",
   "execution_count": null,
   "id": "4b2a88cf",
   "metadata": {},
   "outputs": [],
   "source": [
    "# Fazendo o fit com os dados"
   ]
  },
  {
   "cell_type": "code",
   "execution_count": null,
   "id": "c18a992d",
   "metadata": {},
   "outputs": [],
   "source": [
    "# Fazendo a previsão"
   ]
  },
  {
   "cell_type": "code",
   "execution_count": null,
   "id": "a73869a1",
   "metadata": {},
   "outputs": [
    {
     "data": {
      "text/plain": [
       "array([[19,  0],\n",
       "       [ 2, 12]], dtype=int64)"
      ]
     },
     "execution_count": 26,
     "metadata": {},
     "output_type": "execute_result"
    }
   ],
   "source": [
    "# Avaliando o modelo"
   ]
  },
  {
   "cell_type": "code",
   "execution_count": null,
   "id": "38dc99a0",
   "metadata": {},
   "outputs": [
    {
     "name": "stdout",
     "output_type": "stream",
     "text": [
      "-3.800000000000002 -0.24 3.07\n"
     ]
    }
   ],
   "source": [
    "# Podemos escrever w1, w2 e w0 como"
   ]
  },
  {
   "cell_type": "code",
   "execution_count": null,
   "id": "ca281a80",
   "metadata": {},
   "outputs": [
    {
     "data": {
      "image/png": "[encoded data removed]",
      "text/plain": [
       "<Figure size 432x288 with 1 Axes>"
      ]
     },
     "metadata": {
      "needs_background": "light"
     },
     "output_type": "display_data"
    }
   ],
   "source": [
    "# Adicionando essa reta no gráfico\n",
    "fig, ax = plt.subplots()\n",
    "\n",
    "ax.scatter(X_train.iloc[:,0],X_train.iloc[:,1],c=y_train)\n",
    "ax.plot(X_train.iloc[:,0],(-w1*X_train.iloc[:,0]-w0)/w2)\n",
    "ax.scatter(X_test.iloc[:,0],X_test.iloc[:,1],c=y_test)\n",
    "\n",
    "ax.set(xlim=(2.9,7),xticks=[3,4,5,6,7],\n",
    "    ylim=(0.9,2.6),yticks=[1,2,2.6])\n",
    "\n",
    "plt.show()"
   ]
  },
  {
   "cell_type": "markdown",
   "id": "ec7bb68e",
   "metadata": {},
   "source": [
    "- O perceptron só consegue separar dados **linearmente separáveis**"
   ]
  },
  {
   "cell_type": "markdown",
   "id": "e4e025d7",
   "metadata": {},
   "source": [
    "<a id='XOR'></a>\n",
    "## Analisando o problema do OR e do XOR\n",
    "<img src=\"https://drive.google.com/uc?id=1GRm1nB8ahSH0eYK7gDU9zYYQlafExaB4\" style='width: 350px;' />"
   ]
  },
  {
   "cell_type": "code",
   "execution_count": null,
   "id": "53651e4b",
   "metadata": {},
   "outputs": [],
   "source": [
    "# Vamos considerar inicialmente os dados abaixo\n",
    "dados = pd.DataFrame({\n",
    "             'x1': [0,0,1,1]\n",
    "            ,'x2': [0,1,0,1]\n",
    "            ,'y': [0,1,1,0]\n",
    "                    })"
   ]
  },
  {
   "cell_type": "code",
   "execution_count": null,
   "id": "52f0979a",
   "metadata": {},
   "outputs": [
    {
     "data": {
      "text/html": [
       "<div>\n",
       "<style scoped>\n",
       "    .dataframe tbody tr th:only-of-type {\n",
       "        vertical-align: middle;\n",
       "    }\n",
       "\n",
       "    .dataframe tbody tr th {\n",
       "        vertical-align: top;\n",
       "    }\n",
       "\n",
       "    .dataframe thead th {\n",
       "        text-align: right;\n",
       "    }\n",
       "</style>\n",
       "<table border=\"1\" class=\"dataframe\">\n",
       "  <thead>\n",
       "    <tr style=\"text-align: right;\">\n",
       "      <th></th>\n",
       "      <th>x1</th>\n",
       "      <th>x2</th>\n",
       "      <th>y</th>\n",
       "    </tr>\n",
       "  </thead>\n",
       "  <tbody>\n",
       "    <tr>\n",
       "      <th>0</th>\n",
       "      <td>0</td>\n",
       "      <td>0</td>\n",
       "      <td>0</td>\n",
       "    </tr>\n",
       "    <tr>\n",
       "      <th>1</th>\n",
       "      <td>0</td>\n",
       "      <td>1</td>\n",
       "      <td>1</td>\n",
       "    </tr>\n",
       "    <tr>\n",
       "      <th>2</th>\n",
       "      <td>1</td>\n",
       "      <td>0</td>\n",
       "      <td>1</td>\n",
       "    </tr>\n",
       "    <tr>\n",
       "      <th>3</th>\n",
       "      <td>1</td>\n",
       "      <td>1</td>\n",
       "      <td>0</td>\n",
       "    </tr>\n",
       "  </tbody>\n",
       "</table>\n",
       "</div>"
      ],
      "text/plain": [
       "   x1  x2  y\n",
       "0   0   0  0\n",
       "1   0   1  1\n",
       "2   1   0  1\n",
       "3   1   1  0"
      ]
     },
     "execution_count": 30,
     "metadata": {},
     "output_type": "execute_result"
    }
   ],
   "source": [
    "# Visualizando a base\n",
    "dados"
   ]
  },
  {
   "cell_type": "code",
   "execution_count": null,
   "id": "81e21535",
   "metadata": {},
   "outputs": [
    {
     "data": {
      "image/png": "[encoded data removed]",
      "text/plain": [
       "<Figure size 432x288 with 1 Axes>"
      ]
     },
     "metadata": {
      "needs_background": "light"
     },
     "output_type": "display_data"
    }
   ],
   "source": [
    "# E observando graficamente\n",
    "fig, ax = plt.subplots()\n",
    "\n",
    "ax.scatter(dados.x1,dados.x2,c=dados.y)\n",
    "\n",
    "ax.set(xlim=[-0.1,1.1],xticks=[0,1],\n",
    "       ylim=[-0.1,1.1],yticks=[0,1])\n",
    "\n",
    "plt.show()"
   ]
  },
  {
   "cell_type": "code",
   "execution_count": null,
   "id": "530ab4bc",
   "metadata": {},
   "outputs": [],
   "source": [
    "# Criando o classificador"
   ]
  },
  {
   "cell_type": "code",
   "execution_count": null,
   "id": "8e05afe4",
   "metadata": {},
   "outputs": [],
   "source": [
    "# Selecionando X e y"
   ]
  },
  {
   "cell_type": "code",
   "execution_count": null,
   "id": "a0ef9c95",
   "metadata": {},
   "outputs": [],
   "source": [
    "# Fazendo o fit com os dados"
   ]
  },
  {
   "cell_type": "code",
   "execution_count": null,
   "id": "a42c3021",
   "metadata": {},
   "outputs": [
    {
     "data": {
      "text/plain": [
       "array([0, 0, 0, 0], dtype=int64)"
      ]
     },
     "execution_count": 36,
     "metadata": {},
     "output_type": "execute_result"
    }
   ],
   "source": [
    "# Fazendo a previsão"
   ]
  },
  {
   "cell_type": "code",
   "execution_count": null,
   "id": "bafedace",
   "metadata": {},
   "outputs": [
    {
     "data": {
      "text/plain": [
       "array([[2, 0],\n",
       "       [2, 0]], dtype=int64)"
      ]
     },
     "execution_count": 37,
     "metadata": {},
     "output_type": "execute_result"
    }
   ],
   "source": [
    "# Avaliando o modelo"
   ]
  },
  {
   "cell_type": "code",
   "execution_count": null,
   "id": "7ebf345d",
   "metadata": {},
   "outputs": [
    {
     "data": {
      "text/plain": [
       "array([[0., 0.]])"
      ]
     },
     "execution_count": 38,
     "metadata": {},
     "output_type": "execute_result"
    }
   ],
   "source": [
    "# Verificando o coef_"
   ]
  },
  {
   "cell_type": "code",
   "execution_count": null,
   "id": "baa170b6",
   "metadata": {},
   "outputs": [
    {
     "data": {
      "text/plain": [
       "array([0.])"
      ]
     },
     "execution_count": 39,
     "metadata": {},
     "output_type": "execute_result"
    }
   ],
   "source": [
    "# Verificando o intercept_"
   ]
  },
  {
   "cell_type": "code",
   "execution_count": null,
   "id": "c1415f7d",
   "metadata": {},
   "outputs": [
    {
     "name": "stdout",
     "output_type": "stream",
     "text": [
      "0.0 0.0 0.0\n"
     ]
    }
   ],
   "source": [
    "# Podemos escrever w1, w2 e w0 como"
   ]
  },
  {
   "cell_type": "code",
   "execution_count": null,
   "id": "7b6d018a",
   "metadata": {},
   "outputs": [
    {
     "name": "stderr",
     "output_type": "stream",
     "text": [
      "C:\\Users\\Jean Luca\\AppData\\Local\\Temp\\ipykernel_8984\\3847935731.py:8: RuntimeWarning: invalid value encountered in true_divide\n",
      "  y_perc = (-w1*x_perc-w0)/w2\n"
     ]
    },
    {
     "data": {
      "image/png": "[encoded data removed]",
      "text/plain": [
       "<Figure size 432x288 with 1 Axes>"
      ]
     },
     "metadata": {
      "needs_background": "light"
     },
     "output_type": "display_data"
    }
   ],
   "source": [
    "# Visualizando esse resultado graficamente\n",
    "fig, ax = plt.subplots()\n",
    "\n",
    "# Criando um array de x\n",
    "x_perc = np.linspace(-0.1,1,100)\n",
    "\n",
    "# Agora calculando o y\n",
    "y_perc = (-w1*x_perc-w0)/w2\n",
    "\n",
    "ax.scatter(dados.x1,dados.x2,c=dados.y)\n",
    "ax.plot(x_perc,y_perc,'r')\n",
    "\n",
    "ax.set(xlim=[-0.1,1.1],xticks=[0,1],\n",
    "       ylim=[-0.1,1.1],yticks=[0,1])\n",
    "\n",
    "plt.show()"
   ]
  },
  {
   "cell_type": "markdown",
   "id": "f81efd3e",
   "metadata": {},
   "source": [
    "- Agora [voltando](#XOR) e fazendo para o OU Exclusivo"
   ]
  },
  {
   "cell_type": "markdown",
   "id": "37c82524",
   "metadata": {},
   "source": [
    "- Apesar de conseguir separar bem casos lineares, o perceptron não foi eficiente em um caso \"simples\" como o **OU Exclusivo**, colocando em cheque a sua funcionalidade durante um bom tempo\n",
    "    - Até que o **ganho do poder computacional e o aumento na quantidade de dados** permitiram conectar **vários perceptrons em várias camadas**"
   ]
  }
 ],
 "metadata": {
  "kernelspec": {
   "display_name": "Python 3",
   "language": "python",
   "name": "python3"
  },
  "language_info": {
   "codemirror_mode": {
    "name": "ipython",
    "version": 3
   },
   "file_extension": ".py",
   "mimetype": "text/x-python",
   "name": "python",
   "nbconvert_exporter": "python",
   "pygments_lexer": "ipython3",
   "version": "3.8.10"
  }
 },
 "nbformat": 4,
 "nbformat_minor": 5
}
