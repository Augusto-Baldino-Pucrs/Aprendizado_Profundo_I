{
 "cells": [
  {
   "cell_type": "code",
   "execution_count": 2,
   "metadata": {},
   "outputs": [],
   "source": [
    "import numpy as np"
   ]
  },
  {
   "cell_type": "code",
   "execution_count": 5,
   "metadata": {},
   "outputs": [
    {
     "name": "stdout",
     "output_type": "stream",
     "text": [
      "(2, 2)\n",
      "(2, 1)\n"
     ]
    }
   ],
   "source": [
    "X = np.array([[0.5,0.1], [0.2,0.6]])\n",
    "print(X.shape)\n",
    "Y = np.array([[0.7],[0.8]])\n",
    "print(Y.shape)\n",
    "\n",
    "\n"
   ]
  },
  {
   "cell_type": "code",
   "execution_count": 7,
   "metadata": {},
   "outputs": [
    {
     "name": "stdout",
     "output_type": "stream",
     "text": [
      "(3, 2)\n",
      "(1, 3)\n"
     ]
    }
   ],
   "source": [
    "theta1 = np.array([[0.5,0.2],[0.6,-0.1],[-0.4,-0.3]])\n",
    "\n",
    "print(theta1.shape)\n",
    "\n",
    "theta2 = np.array([[0.7,-0.1,0.2]])\n",
    "print(theta2.shape)"
   ]
  },
  {
   "cell_type": "markdown",
   "metadata": {},
   "source": [
    "Forward Pass"
   ]
  },
  {
   "cell_type": "code",
   "execution_count": 9,
   "metadata": {},
   "outputs": [
    {
     "name": "stdout",
     "output_type": "stream",
     "text": [
      "(2, 3)\n",
      "[[ 0.27  0.29 -0.23]\n",
      " [ 0.22  0.06 -0.26]]\n"
     ]
    }
   ],
   "source": [
    "z1 = np.matmul(X, theta1.T)\n",
    "print(z1.shape)\n",
    "print(z1)"
   ]
  },
  {
   "cell_type": "code",
   "execution_count": 11,
   "metadata": {},
   "outputs": [],
   "source": [
    "def sigmoid(z):\n",
    "    return 1 / (1 + np.exp(-z))"
   ]
  },
  {
   "cell_type": "code",
   "execution_count": null,
   "metadata": {},
   "outputs": [
    {
     "name": "stdout",
     "output_type": "stream",
     "text": [
      "(2, 3)\n"
     ]
    }
   ],
   "source": [
    "a1 = sigmoid(z1)"
   ]
  },
  {
   "cell_type": "code",
   "execution_count": 17,
   "metadata": {},
   "outputs": [
    {
     "name": "stdout",
     "output_type": "stream",
     "text": [
      "(2, 1)\n",
      "[[0.42831585]\n",
      " [0.42391866]]\n"
     ]
    }
   ],
   "source": [
    "z2 = np.matmul(a1,theta2.T)\n",
    "print(z2.shape)\n",
    "print(z2)\n"
   ]
  },
  {
   "cell_type": "code",
   "execution_count": 18,
   "metadata": {},
   "outputs": [
    {
     "name": "stdout",
     "output_type": "stream",
     "text": [
      "(2, 1)\n",
      "[[0.60547144]\n",
      " [0.60442057]]\n"
     ]
    }
   ],
   "source": [
    "a2 = sigmoid(z2)\n",
    "print(a2.shape)\n",
    "print(a2)"
   ]
  },
  {
   "cell_type": "code",
   "execution_count": 22,
   "metadata": {},
   "outputs": [
    {
     "name": "stdout",
     "output_type": "stream",
     "text": [
      "[[0.02359348]]\n"
     ]
    }
   ],
   "source": [
    "# lOSS FUnction\n",
    "\n",
    "loss = 0.5 * np.matmul((Y - a2).T,(Y - a2))\n",
    "print(loss)"
   ]
  },
  {
   "cell_type": "code",
   "execution_count": 23,
   "metadata": {},
   "outputs": [
    {
     "data": {
      "text/plain": [
       "array([[-0.02258058],\n",
       "       [-0.04676233]])"
      ]
     },
     "execution_count": 23,
     "metadata": {},
     "output_type": "execute_result"
    }
   ],
   "source": [
    "#Backward\n",
    "\n",
    "delta2 = (a2 - Y) * a2 * (1-a2)\n",
    "delta2"
   ]
  },
  {
   "cell_type": "code",
   "execution_count": 24,
   "metadata": {},
   "outputs": [
    {
     "data": {
      "text/plain": [
       "array([[-0.00388045,  0.00055281, -0.00111423],\n",
       "       [-0.00808518,  0.00116801, -0.00229904]])"
      ]
     },
     "execution_count": 24,
     "metadata": {},
     "output_type": "execute_result"
    }
   ],
   "source": [
    "delta1 = np.matmul(delta2,theta2) * a1 * (1-a1)\n",
    "delta1"
   ]
  },
  {
   "cell_type": "code",
   "execution_count": null,
   "metadata": {},
   "outputs": [
    {
     "name": "stdout",
     "output_type": "stream",
     "text": [
      "(1, 3)\n",
      "[[-0.03874806 -0.03699839 -0.03035622]]\n"
     ]
    }
   ],
   "source": [
    "djdtheta2 = np.matmul(delta2.T,a1)\n",
    "print(djdtheta2.shape)"
   ]
  },
  {
   "cell_type": "code",
   "execution_count": 26,
   "metadata": {},
   "outputs": [
    {
     "name": "stdout",
     "output_type": "stream",
     "text": [
      "(3, 2)\n"
     ]
    }
   ],
   "source": [
    "djdtheta1 = np.matmul(delta1.T,X)\n",
    "print(djdtheta1.shape)"
   ]
  },
  {
   "cell_type": "code",
   "execution_count": 28,
   "metadata": {},
   "outputs": [
    {
     "name": "stdout",
     "output_type": "stream",
     "text": [
      "[[ 0.70387481 -0.09630016  0.20303562]]\n",
      "[[ 0.50035573  0.20052392]\n",
      " [ 0.599949   -0.10007561]\n",
      " [-0.39989831 -0.29985092]]\n"
     ]
    }
   ],
   "source": [
    "theta2 = theta2 - 0.1 * djdtheta2\n",
    "theta1 = theta1 - 0.1 * djdtheta1\n",
    "print(theta2)\n",
    "print(theta1)"
   ]
  }
 ],
 "metadata": {
  "kernelspec": {
   "display_name": "Python 3",
   "language": "python",
   "name": "python3"
  },
  "language_info": {
   "codemirror_mode": {
    "name": "ipython",
    "version": 3
   },
   "file_extension": ".py",
   "mimetype": "text/x-python",
   "name": "python",
   "nbconvert_exporter": "python",
   "pygments_lexer": "ipython3",
   "version": "3.8.10"
  }
 },
 "nbformat": 4,
 "nbformat_minor": 2
}
